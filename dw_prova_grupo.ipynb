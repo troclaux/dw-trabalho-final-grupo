{
 "cells": [
  {
   "cell_type": "markdown",
   "metadata": {},
   "source": [
    "## Create database"
   ]
  },
  {
   "cell_type": "code",
   "execution_count": 11,
   "metadata": {},
   "outputs": [
    {
     "name": "stdout",
     "output_type": "stream",
     "text": [
      "2.6.0\n",
      "None\n"
     ]
    }
   ],
   "source": [
    "import sqlite3\n",
    "from sqlite3 import Error\n",
    "\n",
    "#https://www.sqlitetutorial.net/sqlite-python/\n",
    "\n",
    "def create_connection(db_file):\n",
    "    \"\"\" create a database connection to a SQLite database \"\"\"\n",
    "    conn = None\n",
    "    try:\n",
    "        conn = sqlite3.connect(db_file)\n",
    "        print(sqlite3.version)\n",
    "    except Error as e:\n",
    "        print(e)\n",
    "    finally:\n",
    "        if conn:\n",
    "            conn.close()\n",
    "\n",
    "if __name__ == '__main__':\n",
    "    #so cria o arquivo se a pasta sqlite e db existirem\n",
    "    #se ao inves de passar o endereco do arquivo, eu passar :memory: o python cria um arquivo na memoria ram\n",
    "    conn = create_connection(r\"C:\\sqlite\\db\\pythonsqlite.db\")\n",
    "    print(conn)"
   ]
  },
  {
   "cell_type": "markdown",
   "metadata": {},
   "source": [
    "## Cria tabela estrela"
   ]
  },
  {
   "cell_type": "code",
   "execution_count": 13,
   "metadata": {},
   "outputs": [],
   "source": [
    "def create_connection(db_file):\n",
    "    \"\"\" create a database connection to a SQLite database \"\"\"\n",
    "    conn = None\n",
    "    try:\n",
    "        conn = sqlite3.connect(db_file)\n",
    "        return conn\n",
    "    except Error as e:\n",
    "        print(e)"
   ]
  },
  {
   "cell_type": "code",
   "execution_count": null,
   "metadata": {},
   "outputs": [],
   "source": [
    "def create_table(conn, create_table_sql):\n",
    "    \"\"\" create a table from the create_table_sql statement\n",
    "    :param conn: Connection object\n",
    "    :param create_table_sql: a CREATE TABLE statement\n",
    "    :return:\n",
    "    \"\"\"\n",
    "    try:\n",
    "        c = conn.cursor()\n",
    "        c.execute(create_table_sql)\n",
    "    except Error as e:\n",
    "        print(e)"
   ]
  },
  {
   "cell_type": "code",
   "execution_count": null,
   "metadata": {},
   "outputs": [],
   "source": [
    "def main():\n",
    "    database = \"C:\\sqlite\\db\\pythonsqlite.db\"\n",
    "\n",
    "    sql_create_vacinacao_covid_brasil = \"\"\" CREATE TABLE IF NOT EXISTS vacinacao_covid_brasil (\n",
    "                                        FOREIGN KEY (paciente_fk_id) REFERENCES paciente(paciente_id),\n",
    "                                        FOREIGN KEY(vacina_codigo_fk_id) REFERENCES vacina(vacina_codigo),\n",
    "                                        FOREIGN KEY(estabelecimento_razao_social_fk_id) REFERENCES estabelecimento(estabelecimento_razao_social)\n",
    "                                    ); \"\"\"\n",
    "\n",
    "    sql_create_paciente_table = \"\"\" CREATE TABLE IF NOT EXISTS paciente (\n",
    "                                        paciente_id text PRIMARY KEY,\n",
    "                                        document_id text,\n",
    "                                        paciente_idade integer,\n",
    "                                        paciente_datanascimento text,\n",
    "                                        paciente_enumsexobiologico char,\n",
    "                                        paciente_racacor_codigo integer,\n",
    "                                        paciente_racacor_valor text,\n",
    "                                        paciente_endereco_coibgemunicipio integer,\n",
    "                                        paciente_endereco_copais integer,\n",
    "                                        paciente_endereco_nmmunicipio text,\n",
    "                                        paciente_endereco_nmpais text,\n",
    "                                        paciente_endereco_uf text,\n",
    "                                        paciente_endereco_cep text,\n",
    "                                        paciente_nacionalidade_enumnacionalidade char\n",
    "                                    );\"\"\"\n",
    "\n",
    "    sql_create_vacina_table = \"\"\" CREATE TABLE IF NOT EXISTS vacina (\n",
    "                                        vacina_codigo integer PRIMARY KEY,\n",
    "                                        vacina_grupoatendimento_codigo integer,\n",
    "                                        vacina_grupoatendimento_nome text,\n",
    "                                        vacina_categoria_codigo integer,\n",
    "                                        vacina_categoria_nome text,\n",
    "                                        vacina_lote text,\n",
    "                                        vacina_fabricante_nome text,\n",
    "                                        vacina_fabricante_referencia text,\n",
    "                                        vacina_dataaplicacao text,\n",
    "                                        vacina_descricao_dose text,\n",
    "                                        vacina_codigo integer,\n",
    "                                        vacina_numdose integer,\n",
    "                                        vacina_nome text\n",
    "                                    );\"\"\"\n",
    "\n",
    "    sql_create_estabelecimento_table = \"\"\" CREATE TABLE IF NOT EXISTS estabelecimento (\n",
    "                                        estabelecimento_municipio_codigo integer PRIMARY KEY,\n",
    "                                        estabelecimento_razaosocial text,\n",
    "                                        estabelecimento_valor integer,\n",
    "                                        estabelecimento_nofantasia text,\n",
    "                                        estabelecimento_municipio_nome text,\n",
    "                                        estabelecimento_uf text\n",
    "                                    );\"\"\"\n",
    "\n",
    "    # create a database connection\n",
    "    conn = create_connection(database)\n",
    "\n",
    "    # create tables\n",
    "    if conn is not None:\n",
    "        # create historico table\n",
    "        create_table(conn, sql_create_vacinacao_covid_brasil)\n",
    "    else:\n",
    "        print(\"Error! cannot create the database connection.\")"
   ]
  },
  {
   "cell_type": "code",
   "execution_count": null,
   "metadata": {},
   "outputs": [],
   "source": [
    "if __name__ == '__main__':\n",
    "    main()"
   ]
  }
 ],
 "metadata": {
  "interpreter": {
   "hash": "e01015a1f226762d6e837830ce8242f2b2dee0f4257f0b3304cf0f6369245bc5"
  },
  "kernelspec": {
   "display_name": "Python 3.10.0 64-bit (windows store)",
   "language": "python",
   "name": "python3"
  },
  "language_info": {
   "codemirror_mode": {
    "name": "ipython",
    "version": 3
   },
   "file_extension": ".py",
   "mimetype": "text/x-python",
   "name": "python",
   "nbconvert_exporter": "python",
   "pygments_lexer": "ipython3",
   "version": "3.10.0"
  },
  "orig_nbformat": 4
 },
 "nbformat": 4,
 "nbformat_minor": 2
}
