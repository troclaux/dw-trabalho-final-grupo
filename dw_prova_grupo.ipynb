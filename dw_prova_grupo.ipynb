{
 "cells": [
  {
   "cell_type": "markdown",
   "metadata": {},
   "source": [
    "## Baixa dados sobre Covid da web"
   ]
  },
  {
   "cell_type": "code",
   "execution_count": null,
   "metadata": {},
   "outputs": [],
   "source": [
    "import requests\n",
    "\n",
    "def download_file(id, destination):\n",
    "    URL = \"https://drive.google.com/uc?id=1oiBDNZD65P3OCmOc1xrOlhL391MDcm-o&export=download\"\n",
    "\n",
    "    session = requests.Session()\n",
    "    response = session.get(URL, params={'id': id})\n",
    "    token = get_confirm_token(response)\n",
    "    if(token):\n",
    "        params = {'id': id, 'confirm': token}\n",
    "        response = session.get(URL, params=params)\n",
    "    save_response_content(response, destination)\n",
    "\n",
    "\n",
    "def get_confirm_token(response):\n",
    "    for key, value in response.cookies.items():\n",
    "        if key.startswith('download_warning'):\n",
    "            return value\n",
    "\n",
    "    return None\n",
    "\n",
    "\n",
    "def save_response_content(response, destination):\n",
    "    CHUNK_SIZE = 32768\n",
    "\n",
    "    with open(destination, \"wb\") as f:\n",
    "        for chunk in response.iter_content(CHUNK_SIZE):\n",
    "            if chunk:  # filter out keep-alive new chunks\n",
    "                f.write(chunk)\n",
    "\n",
    "\n",
    "if __name__ == \"__main__\":\n",
    "    file_id = '1oiBDNZD65P3OCmOc1xrOlhL391MDcm-o'\n",
    "    destination = 'dados_covid.csv'\n",
    "    download_file(file_id, destination)\n"
   ]
  },
  {
   "cell_type": "markdown",
   "metadata": {},
   "source": [
    "## Cria banco de dados"
   ]
  },
  {
   "cell_type": "code",
   "execution_count": 42,
   "metadata": {},
   "outputs": [
    {
     "name": "stdout",
     "output_type": "stream",
     "text": [
      "c:\\Users\\arthu\\Desktop\\2021.1\\Xexeo\\dw_trabalho_final_grupo\\dw_prova_grupo.db\n"
     ]
    }
   ],
   "source": [
    "import sqlite3\n",
    "from sqlite3 import Error\n",
    "import os\n",
    "\n",
    "#https://www.sqlitetutorial.net/sqlite-python/\n",
    "\n",
    "\n",
    "def create_connection(db_file):\n",
    "    \"\"\" create a database connection to a SQLite database \"\"\"\n",
    "    conn = None\n",
    "    try:\n",
    "        conn = sqlite3.connect(db_file)\n",
    "    except Error as e:\n",
    "        print(e)\n",
    "    finally:\n",
    "        if conn:\n",
    "            conn.close()\n",
    "\n",
    "\n",
    "def getPath():\n",
    "    return os.path.join(os.getcwd(), 'dw_prova_grupo.db')\n",
    "\n",
    "if __name__ == '__main__':\n",
    "    print(getPath())\n",
    "    conn = create_connection(getPath())"
   ]
  },
  {
   "cell_type": "markdown",
   "metadata": {},
   "source": [
    "## Cria tabela estrela"
   ]
  },
  {
   "cell_type": "code",
   "execution_count": 43,
   "metadata": {},
   "outputs": [],
   "source": [
    "def create_connection(db_file):\n",
    "    \"\"\" create a database connection to a SQLite database \"\"\"\n",
    "    conn = None\n",
    "    try:\n",
    "        conn = sqlite3.connect(db_file)\n",
    "        return conn\n",
    "    except Error as e:\n",
    "        print(e)"
   ]
  },
  {
   "cell_type": "code",
   "execution_count": 44,
   "metadata": {},
   "outputs": [],
   "source": [
    "def create_table(conn, create_table_sql):\n",
    "    \"\"\" create a table from the create_table_sql statement\n",
    "    :param conn: Connection object\n",
    "    :param create_table_sql: a CREATE TABLE statement\n",
    "    :return:\n",
    "    \"\"\"\n",
    "    try:\n",
    "        c = conn.cursor()\n",
    "        c.execute(create_table_sql)\n",
    "    except Error as e:\n",
    "        print(e)"
   ]
  },
  {
   "cell_type": "code",
   "execution_count": 45,
   "metadata": {},
   "outputs": [],
   "source": [
    "def main():\n",
    "    database = getPath()\n",
    "\n",
    "    sql_create_vacinacao_covid_brasil = \"\"\" CREATE TABLE IF NOT EXISTS vacinacao_covid_brasil (\n",
    "                                        fk_paciente_id text,\n",
    "                                        fk_vacina_codigo integer,\n",
    "                                        fk_estabelecimento_id integer,\n",
    "                                        FOREIGN KEY (fk_paciente_id) REFERENCES paciente(paciente_id),\n",
    "                                        FOREIGN KEY(fk_vacina_codigo) REFERENCES vacina(vacina_codigo),\n",
    "                                        FOREIGN KEY(fk_estabelecimento_id) REFERENCES estabelecimento(estabelecimento_id),\n",
    "                                        data_importacao_rnds text,\n",
    "                                        sistema_origem text,\n",
    "                                        id_sistema_origem integer\n",
    "                                    ); \"\"\"\n",
    "\n",
    "    sql_create_paciente_table = \"\"\" CREATE TABLE IF NOT EXISTS paciente (\n",
    "                                        paciente_id text PRIMARY KEY,\n",
    "                                        document_id text,\n",
    "                                        paciente_idade integer,\n",
    "                                        paciente_datanascimento text,\n",
    "                                        paciente_enumsexobiologico char,\n",
    "                                        paciente_racacor_valor text,\n",
    "                                        paciente_racacor_codigo integer,\n",
    "                                        paciente_endereco_coibgemunicipio integer,\n",
    "                                        paciente_endereco_copais integer,\n",
    "                                        paciente_endereco_nmmunicipio text,\n",
    "                                        paciente_endereco_nmpais text,\n",
    "                                        paciente_endereco_uf text,\n",
    "                                        paciente_endereco_cep text,\n",
    "                                        paciente_nacionalidade_enumnacionalidade char\n",
    "                                    );\"\"\"\n",
    "\n",
    "    sql_create_vacina_table = \"\"\" CREATE TABLE IF NOT EXISTS vacina (\n",
    "                                        vacina_codigo integer PRIMARY KEY,\n",
    "                                        vacina_nome text,\n",
    "                                        vacina_numdose integer,\n",
    "                                        vacina_descricao_dose text,\n",
    "                                        vacina_dataaplicacao text,\n",
    "                                        vacina_fabricante_referencia text,\n",
    "                                        vacina_fabricante_nome text,\n",
    "                                        vacina_lote text,\n",
    "                                        vacina_categoria_nome text,\n",
    "                                        vacina_categoria_codigo integer,\n",
    "                                        vacina_grupoatendimento_nome text,\n",
    "                                        vacina_grupoatendimento_codigo integer,\n",
    "                                    );\"\"\"\n",
    "\n",
    "    sql_create_estabelecimento_table = \"\"\" CREATE TABLE IF NOT EXISTS estabelecimento (\n",
    "                                        estabelecimento_id integer PRIMARY KEY AUTOINCREMENT,\n",
    "                                        estabelecimento_municipio_nome text,\n",
    "                                        estabelecimento_municipio_codigo integer,\n",
    "                                        estabelecimento_valor integer,\n",
    "                                        estabelecimento_nofantasia text,\n",
    "                                        estabelecimento_razaosocial text,\n",
    "                                        estabelecimento_uf text\n",
    "                                    );\"\"\"\n",
    "\n",
    "    # create a database connection\n",
    "    conn = create_connection(database)\n",
    "\n",
    "    # create tables\n",
    "    if conn is not None:\n",
    "        # create historico table\n",
    "        create_table(conn, sql_create_vacinacao_covid_brasil)\n",
    "        create_table(conn, sql_create_paciente_table)\n",
    "        create_table(conn, sql_create_vacina_table)\n",
    "        create_table(conn, sql_create_estabelecimento_table)\n",
    "    else:\n",
    "        print(\"Error! cannot create the database connection.\")"
   ]
  },
  {
   "cell_type": "code",
   "execution_count": 46,
   "metadata": {},
   "outputs": [
    {
     "name": "stdout",
     "output_type": "stream",
     "text": [
      "near \"data_importacao_rnds\": syntax error\n",
      "near \")\": syntax error\n"
     ]
    }
   ],
   "source": [
    "if __name__ == '__main__':\n",
    "    main()"
   ]
  },
  {
   "cell_type": "markdown",
   "metadata": {},
   "source": [
    "## Insere dados na tabela"
   ]
  },
  {
   "cell_type": "code",
   "execution_count": 47,
   "metadata": {},
   "outputs": [
    {
     "data": {
      "text/plain": [
       "\" import pandas as pd\\n\\ndados = pd.read_csv('dados_covid.csv')\\ndados.to_sql('users', conn, if_exists='append', index=False) \""
      ]
     },
     "execution_count": 47,
     "metadata": {},
     "output_type": "execute_result"
    }
   ],
   "source": [
    "\"\"\" import pandas as pd\n",
    "\n",
    "dados = pd.read_csv('dados_covid.csv')\n",
    "dados.to_sql('users', conn, if_exists='append', index=False) \"\"\"\n"
   ]
  }
 ],
 "metadata": {
  "interpreter": {
   "hash": "916dbcbb3f70747c44a77c7bcd40155683ae19c65e1c03b4aa3499c5328201f1"
  },
  "kernelspec": {
   "display_name": "Python 3.8.10 64-bit",
   "name": "python3"
  },
  "language_info": {
   "codemirror_mode": {
    "name": "ipython",
    "version": 3
   },
   "file_extension": ".py",
   "mimetype": "text/x-python",
   "name": "python",
   "nbconvert_exporter": "python",
   "pygments_lexer": "ipython3",
   "version": "3.10.0"
  },
  "orig_nbformat": 4
 },
 "nbformat": 4,
 "nbformat_minor": 2
}
