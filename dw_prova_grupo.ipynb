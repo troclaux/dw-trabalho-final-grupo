{
 "cells": [
  {
   "cell_type": "markdown",
   "metadata": {},
   "source": [
    "# Questão 1) Coleta de dados"
   ]
  },
  {
   "cell_type": "markdown",
   "metadata": {},
   "source": [
    "Instalação das bibliotecas usadas"
   ]
  },
  {
   "cell_type": "code",
   "execution_count": null,
   "metadata": {},
   "outputs": [],
   "source": [
    "!pip install pandas\n",
    "!pip install requests\n",
    "!pip install pyperclip\n"
   ]
  },
  {
   "cell_type": "markdown",
   "metadata": {},
   "source": [
    "## Baixa dados sobre Covid da web"
   ]
  },
  {
   "cell_type": "markdown",
   "metadata": {},
   "source": [
    "O código utiliza a biblioteca ```requests```, mas a primeira célula já executa o comando ```!pip install requests```."
   ]
  },
  {
   "cell_type": "code",
   "execution_count": 10,
   "metadata": {},
   "outputs": [],
   "source": [
    "import requests\n",
    "import os\n",
    "\n",
    "def download_file(id, destination):\n",
    "    URL = \"https://drive.google.com/uc?id=1oiBDNZD65P3OCmOc1xrOlhL391MDcm-o&export=download\"\n",
    "\n",
    "    session = requests.Session()\n",
    "    response = session.get(URL, params={'id': id})\n",
    "    token = get_confirm_token(response)\n",
    "    if(token):\n",
    "        params = {'id': id, 'confirm': token}\n",
    "        response = session.get(URL, params=params)\n",
    "    save_response_content(response, destination)\n",
    "\n",
    "\n",
    "def get_confirm_token(response):\n",
    "    for key, value in response.cookies.items():\n",
    "        if key.startswith('download_warning'):\n",
    "            return value\n",
    "\n",
    "    return None\n",
    "\n",
    "# https://stackoverflow.com/questions/30582162/creating-a-missing-directory-file-structure-python\n",
    "def createAndOpen(filename, mode):\n",
    "    os.makedirs(os.path.dirname(filename), exist_ok=True)\n",
    "    return open(filename, mode)\n",
    "\n",
    "def save_response_content(response, destination):\n",
    "    CHUNK_SIZE = 32768\n",
    "\n",
    "    with createAndOpen(destination, \"wb\") as f:\n",
    "        for chunk in response.iter_content(CHUNK_SIZE):\n",
    "            if chunk:  # filter out keep-alive new chunks\n",
    "                f.write(chunk)\n",
    "\n",
    "# Endereço do arquivo CSV\n",
    "endereco_arquivo_dados = os.path.join(os.getcwd(), 'DW-trabalho-workspace', 'DW_trabalho_final_grupo3', 'data', 'dados_covid.csv')\n",
    "\n",
    "if __name__ == \"__main__\":\n",
    "    file_id = '1oiBDNZD65P3OCmOc1xrOlhL391MDcm-o'\n",
    "    destination = endereco_arquivo_dados\n",
    "    #destination = 'dados_covid.csv'\n",
    "    download_file(file_id, destination)"
   ]
  },
  {
   "cell_type": "markdown",
   "metadata": {},
   "source": [
    "# Questão 3) Cria banco de dados"
   ]
  },
  {
   "cell_type": "code",
   "execution_count": null,
   "metadata": {},
   "outputs": [],
   "source": [
    "import sqlite3\n",
    "from sqlite3 import Error\n",
    "import os\n",
    "\n",
    "#https://www.sqlitetutorial.net/sqlite-python/\n",
    "\n",
    "\n",
    "def create_connection(db_file):\n",
    "    \"\"\" create a database connection to a SQLite database \"\"\"\n",
    "    conn = None\n",
    "    try:\n",
    "        conn = sqlite3.connect(db_file)\n",
    "    except Error as e:\n",
    "        print(e)\n",
    "    finally:\n",
    "        if conn:\n",
    "            conn.close()\n",
    "\n",
    "\n",
    "def getPath():\n",
    "    return os.path.join(os.getcwd(), 'dw_prova_grupo.db')\n",
    "\n",
    "if __name__ == '__main__':\n",
    "    print(getPath())\n",
    "    conn = create_connection(getPath())"
   ]
  },
  {
   "cell_type": "code",
   "execution_count": null,
   "metadata": {},
   "outputs": [],
   "source": [
    "\n",
    "def create_connection(db_file):\n",
    "    \"\"\" create a database connection to a SQLite database \"\"\"\n",
    "    conn = None\n",
    "    try:\n",
    "        conn = sqlite3.connect(db_file)\n",
    "    except Error as e:\n",
    "        print(e)\n",
    "    finally:\n",
    "        if conn:\n",
    "            conn.close()\n",
    "\n",
    "\n",
    "def getPath():\n",
    "    return os.path.join(os.getcwd(), 'dw_prova_grupo.db')\n",
    "\n",
    "if __name__ == '__main__':\n",
    "    print(getPath())\n",
    "    conn = create_connection(getPath())"
   ]
  },
  {
   "cell_type": "markdown",
   "metadata": {},
   "source": [
    "## Cria tabela estrela"
   ]
  },
  {
   "cell_type": "code",
   "execution_count": 13,
   "metadata": {},
   "outputs": [],
   "source": [
    "def create_connection(db_file):\n",
    "    \"\"\" create a database connection to a SQLite database \"\"\"\n",
    "    conn = None\n",
    "    try:\n",
    "        conn = sqlite3.connect(db_file)\n",
    "        return conn\n",
    "    except Error as e:\n",
    "        print(e)"
   ]
  },
  {
   "cell_type": "code",
   "execution_count": 14,
   "metadata": {},
   "outputs": [],
   "source": [
    "def create_table(conn, create_table_sql):\n",
    "    \"\"\" create a table from the create_table_sql statement\n",
    "    :param conn: Connection object\n",
    "    :param create_table_sql: a CREATE TABLE statement\n",
    "    :return:\n",
    "    \"\"\"\n",
    "    try:\n",
    "        c = conn.cursor()\n",
    "        c.execute(create_table_sql)\n",
    "    except Error as e:\n",
    "        print(e)"
   ]
  },
  {
   "cell_type": "code",
   "execution_count": 15,
   "metadata": {},
   "outputs": [],
   "source": [
    "def main():\n",
    "    database = getPath()\n",
    "\n",
    "    #cria tabela fato\n",
    "    sql_create_vacinacao_covid_brasil = \"\"\" CREATE TABLE IF NOT EXISTS vacinacao_covid_brasil (\n",
    "                                                fk_paciente_id text,\n",
    "                                                fk_vacina_codigo integer,\n",
    "                                                fk_estabelecimento_id integer,\n",
    "                                                fk_tempo_id integer,\n",
    "                                                FOREIGN KEY (fk_paciente_id) REFERENCES paciente(paciente_id),\n",
    "                                                FOREIGN KEY (fk_vacina_codigo) REFERENCES vacina(vacina_codigo),\n",
    "                                                FOREIGN KEY (fk_estabelecimento_id) REFERENCES estabelecimento(estabelecimento_id),\n",
    "                                                FOREIGN KEY (fk_tempo_id) REFERENCES tempo(tempo_id),\n",
    "                                                sistema_origem text,\n",
    "                                                id_sistema_origem integer\n",
    "                                            );\"\"\"\n",
    "\n",
    "    #cria tabelas dimensao\n",
    "    sql_create_tempo_table = \"\"\" CREATE TABLE IF NOT EXISTS tempo (\n",
    "                                    tempo_id integer PRIMARY KEY AUTOINCREMENT,\n",
    "                                    vacina_dataaplicacao text,\n",
    "                                    paciente_datanascimento text,\n",
    "                                    data_importacao_rnds text\n",
    "                                );\"\"\"\n",
    "\n",
    "    sql_create_paciente_table = \"\"\" CREATE TABLE IF NOT EXISTS paciente (\n",
    "                                        paciente_id text PRIMARY KEY,\n",
    "                                        document_id text,\n",
    "                                        paciente_idade integer,\n",
    "                                        paciente_enumsexobiologico char,\n",
    "                                        paciente_racacor_valor text,\n",
    "                                        paciente_racacor_codigo integer,\n",
    "                                        paciente_endereco_coibgemunicipio integer,\n",
    "                                        paciente_endereco_copais integer,\n",
    "                                        paciente_endereco_nmmunicipio text,\n",
    "                                        paciente_endereco_nmpais text,\n",
    "                                        paciente_endereco_uf text,\n",
    "                                        paciente_endereco_cep text,\n",
    "                                        paciente_nacionalidade_enumnacionalidade char\n",
    "                                    );\"\"\"\n",
    "\n",
    "    sql_create_vacina_table = \"\"\" CREATE TABLE IF NOT EXISTS vacina (\n",
    "                                    vacina_codigo integer PRIMARY KEY AUTOINCREMENT,\n",
    "                                    vacina_nome text,\n",
    "                                    vacina_numdose integer,\n",
    "                                    vacina_descricao_dose text,\n",
    "                                    vacina_fabricante_referencia text,\n",
    "                                    vacina_fabricante_nome text,\n",
    "                                    vacina_lote text,\n",
    "                                    vacina_categoria_nome text,\n",
    "                                    vacina_categoria_codigo integer,\n",
    "                                    vacina_grupoatendimento_nome text,\n",
    "                                    vacina_grupoatendimento_codigo integer\n",
    "                                );\"\"\"\n",
    "\n",
    "    sql_create_estabelecimento_table = \"\"\" CREATE TABLE IF NOT EXISTS estabelecimento (\n",
    "                                            estabelecimento_id integer PRIMARY KEY AUTOINCREMENT,\n",
    "                                            estabelecimento_municipio_nome text,\n",
    "                                            estabelecimento_municipio_codigo integer,\n",
    "                                            estabelecimento_valor integer,\n",
    "                                            estabelecimento_nofantasia text,\n",
    "                                            estabelecimento_razaosocial text,\n",
    "                                            estabelecimento_uf text\n",
    "                                        );\"\"\"\n",
    "\n",
    "    # create a database connection\n",
    "    conn = create_connection(database)\n",
    "\n",
    "    # create tables\n",
    "    if conn is not None:\n",
    "        # create historico table\n",
    "        create_table(conn, sql_create_vacinacao_covid_brasil)\n",
    "        create_table(conn, sql_create_paciente_table)\n",
    "        create_table(conn, sql_create_vacina_table)\n",
    "        create_table(conn, sql_create_estabelecimento_table)\n",
    "        create_table(conn, sql_create_tempo_table)\n",
    "    else:\n",
    "        print(\"Error! cannot create the database connection.\")\n",
    "\n",
    "    #conn.commit()\n",
    "    #conn.close()"
   ]
  },
  {
   "cell_type": "code",
   "execution_count": 16,
   "metadata": {},
   "outputs": [
    {
     "name": "stdout",
     "output_type": "stream",
     "text": [
      "near \"sistema_origem\": syntax error\n"
     ]
    }
   ],
   "source": [
    "if __name__ == '__main__':\n",
    "    main()"
   ]
  },
  {
   "cell_type": "markdown",
   "metadata": {},
   "source": [
    "# Questão 4) Carga de dados"
   ]
  },
  {
   "cell_type": "markdown",
   "metadata": {},
   "source": [
    "## Insere dados na tabela"
   ]
  },
  {
   "cell_type": "markdown",
   "metadata": {},
   "source": [
    "O código utiliza a biblioteca ```pandas```, mas a primeira célula já executa o comando ```!pip install pandas```."
   ]
  },
  {
   "cell_type": "code",
   "execution_count": 17,
   "metadata": {},
   "outputs": [],
   "source": [
    "import pandas as pd\n",
    "\n",
    "#function that insert csv data into database\n",
    "def insert_data(df, table_name):\n",
    "    conn = create_connection(getPath())\n",
    "    df.to_sql(table_name, conn, if_exists='append', index=False)\n",
    "\n",
    "# Colunas com os dados da tabela paciente\n",
    "paciente_atributos = ['document_id','paciente_idade','paciente_enumsexobiologico','paciente_racacor_valor','paciente_racacor_codigo','paciente_endereco_coibgemunicipio','paciente_endereco_copais','paciente_endereco_nmmunicipio','paciente_endereco_nmpais','paciente_endereco_uf','paciente_endereco_cep','paciente_nacionalidade_enumnacionalidade']\n",
    "\n",
    "# Colunas com os dados da tabela vacina\n",
    "vacina_atributos = ['vacina_nome','vacina_numdose','vacina_descricao_dose','vacina_fabricante_referencia','vacina_fabricante_nome','vacina_lote','vacina_categoria_nome','vacina_categoria_codigo','vacina_grupoatendimento_nome','vacina_grupoatendimento_codigo'] \n",
    "\n",
    "# Colunas com os dados da tabela estabelecimento\n",
    "estabelecimento_atributos = ['estabelecimento_municipio_nome', 'estabelecimento_municipio_codigo', 'estabelecimento_valor', 'estabelecimento_razaosocial', 'estabelecimento_uf']\n",
    "\n",
    "# Colunas com os dados da tabela tempo\n",
    "tempo_atributos = ['vacina_dataaplicacao', 'paciente_datanascimento', 'data_importacao_rnds']\n",
    "\n",
    "# Colunas com os dados da tabela fato\n",
    "tabela_fato_atributos = ['sistema_origem','id_sistema_origem']\n",
    "\n",
    "# Le os dados do csv e insere no banco de dados\n",
    "# Insere os dados na tabela paciente\n",
    "dados_paciente = pd.read_csv(endereco_arquivo_dados, usecols = paciente_atributos, sep = ';')\n",
    "insert_data(dados_paciente, 'paciente')\n",
    "\n",
    "# Insere os dados na tabela vacina\n",
    "dados_vacina = pd.read_csv(endereco_arquivo_dados, usecols = vacina_atributos, sep = ';')\n",
    "insert_data(dados_vacina, 'vacina')\n",
    "\n",
    "# Insere os dados na tabela estabelecimento\n",
    "dados_estabelecimento = pd.read_csv(endereco_arquivo_dados, usecols = estabelecimento_atributos, sep = ';')\n",
    "insert_data(dados_estabelecimento, 'estabelecimento')\n",
    "\n",
    "# Insere os dados na tabela tempo\n",
    "dados_tempo = pd.read_csv(endereco_arquivo_dados, usecols = tempo_atributos, sep=';')\n",
    "insert_data(dados_tempo, 'tempo')\n",
    "\n",
    "# Insere os dados na tabela fato\n",
    "dados_fato = pd.read_csv(endereco_arquivo_dados, usecols = tabela_fato_atributos, sep = ';')\n",
    "insert_data(dados_fato, 'vacinacao_covid_brasil')"
   ]
  },
  {
   "cell_type": "markdown",
   "metadata": {},
   "source": [
    "# Questão 5) Análise de dados"
   ]
  },
  {
   "cell_type": "markdown",
   "metadata": {},
   "source": [
    "## IMPORTANTE: Assistir o seguinde vídeo: https://www.youtube.com/watch?v=wjvb_x1I4rI"
   ]
  },
  {
   "cell_type": "markdown",
   "metadata": {},
   "source": [
    "Para executar o workflow KNIME de maneira correta, deve-se assistir vídeo acima para entender a função das 2 células abaixo"
   ]
  },
  {
   "cell_type": "markdown",
   "metadata": {},
   "source": [
    "Os códigos abaixo utilizam a biblioteca ```pyperclip```, mas a primeira célula já executa o comando ```!pip install pyperclip```."
   ]
  },
  {
   "cell_type": "markdown",
   "metadata": {},
   "source": [
    "O método pyperclip.copy() serve para copiar uma string para área de transferência do computador\n",
    "A célula abaixo pega o endereço que será usado para o Workspace do KNIME"
   ]
  },
  {
   "cell_type": "code",
   "execution_count": 18,
   "metadata": {},
   "outputs": [
    {
     "name": "stdout",
     "output_type": "stream",
     "text": [
      "e:\\UFRJ\\Eletivas\\Data Warehouse no Suporte a Tomada de Decisão\\Exercícios em grupo\\dw_trabalho_final_grupo\\DW-trabalho-workspace\n"
     ]
    }
   ],
   "source": [
    "import pyperclip\n",
    "import os\n",
    "\n",
    "def getWorkflowPath():\n",
    "    knWorkspacePath = os.path.join(os.getcwd(), 'DW-trabalho-workspace')\n",
    "    print(knWorkspacePath)\n",
    "    return knWorkspacePath\n",
    "\n",
    "knwfPath = getWorkflowPath()\n",
    "pyperclip.copy(knwfPath)"
   ]
  },
  {
   "cell_type": "markdown",
   "metadata": {},
   "source": [
    "A célula abaixo pega o endereço que será usado para um dos passos no KNIME\n",
    "O endereço será usado na exportação do Workflow do KNIME, que é essencial para que o KNIME consiga ler da pasta correta"
   ]
  },
  {
   "cell_type": "code",
   "execution_count": 19,
   "metadata": {},
   "outputs": [
    {
     "name": "stdout",
     "output_type": "stream",
     "text": [
      "e:\\UFRJ\\Eletivas\\Data Warehouse no Suporte a Tomada de Decisão\\Exercícios em grupo\\dw_trabalho_final_grupo\\DW-trabalho-workspace\\DW_trabalho_final_grupo3.knwf\n"
     ]
    }
   ],
   "source": [
    "import pyperclip\n",
    "import os\n",
    "\n",
    "def getWorkflowPath():\n",
    "    knwfPath = os.path.join(os.getcwd(), 'DW-trabalho-workspace', 'DW_trabalho_final_grupo3.knwf')\n",
    "    print(knwfPath)\n",
    "    return knwfPath\n",
    "\n",
    "knwfPath = getWorkflowPath()\n",
    "pyperclip.copy(knwfPath)"
   ]
  }
 ],
 "metadata": {
  "interpreter": {
   "hash": "916dbcbb3f70747c44a77c7bcd40155683ae19c65e1c03b4aa3499c5328201f1"
  },
  "kernelspec": {
   "display_name": "Python 3.8.10 64-bit",
   "name": "python3"
  },
  "language_info": {
   "codemirror_mode": {
    "name": "ipython",
    "version": 3
   },
   "file_extension": ".py",
   "mimetype": "text/x-python",
   "name": "python",
   "nbconvert_exporter": "python",
   "pygments_lexer": "ipython3",
   "version": "3.9.9"
  },
  "orig_nbformat": 4
 },
 "nbformat": 4,
 "nbformat_minor": 2
}
