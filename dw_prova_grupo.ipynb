{
 "cells": [
  {
   "cell_type": "markdown",
   "metadata": {},
   "source": [
    "# Questão 1) Coleta de dados"
   ]
  },
  {
   "cell_type": "markdown",
   "metadata": {},
   "source": [
    "Instalação das bibliotecas usadas"
   ]
  },
  {
   "cell_type": "code",
   "execution_count": null,
   "metadata": {},
   "outputs": [],
   "source": [
    "!pip install pandas\n",
    "!pip install googledrivedownloader"
   ]
  },
  {
   "cell_type": "markdown",
   "metadata": {},
   "source": [
    "## Baixa dados sobre Covid da web"
   ]
  },
  {
   "cell_type": "code",
   "execution_count": null,
   "metadata": {},
   "outputs": [],
   "source": [
    "from google_drive_downloader import GoogleDriveDownloader as gdd\n",
    "\n",
    "access_link_microdados_zip = 'https://drive.google.com/file/d/1ibzxT4Qo_pahBfwb2aJElrpi4qyETQ0h/view?usp=sharing'\n",
    "drive_id_covid_dados = '1ibzxT4Qo_pahBfwb2aJElrpi4qyETQ0h'\n",
    "\n",
    "# Verifica se o arquivo .zip já existe\n",
    "# Se existe, delete pra poder baixar de novo e dar unzip\n",
    "if (os.path.isfile('./dados_covid.zip')):\n",
    "    os.remove('./dados_covid.zip')\n",
    "\n",
    "gdd.download_file_from_google_drive(drive_id_covid_dados,'./dados_covid.zip', unzip = True)"
   ]
  },
  {
   "cell_type": "code",
   "execution_count": null,
   "metadata": {},
   "outputs": [],
   "source": [
    "import shutil\n",
    "\n",
    "download_csv_path = os.path.join(os.getenv('USERPROFILE'), 'Downloads', 'dados_covid.csv')\n",
    "\n",
    "# Verifica se o arquivo existe ou não, se existe deleta\n",
    "# Isso é feito para o método shutil.move() conseguir transferir o arquivo\n",
    "if (os.path.isfile(download_csv_path)):\n",
    "    os.remove(download_csv_path)\n",
    "\n",
    "#if(check_file_exists('./dados_covid.zip')):\n",
    "shutil.copy('./dados_covid.csv', os.path.join(os.getenv('USERPROFILE'), 'Downloads'))\n"
   ]
  },
  {
   "cell_type": "markdown",
   "metadata": {},
   "source": [
    "# Questão 3) Cria banco de dados"
   ]
  },
  {
   "cell_type": "code",
   "execution_count": null,
   "metadata": {},
   "outputs": [],
   "source": [
    "import sqlite3\n",
    "from sqlite3 import Error\n",
    "import os\n",
    "\n",
    "#https://www.sqlitetutorial.net/sqlite-python/\n",
    "\n",
    "def create_connection(db_file):\n",
    "    \"\"\" create a database connection to a SQLite database \"\"\"\n",
    "    conn = None\n",
    "    try:\n",
    "        conn = sqlite3.connect(db_file)\n",
    "        return conn\n",
    "    except Error as e:\n",
    "        print(e)\n",
    "\n",
    "def getPath():\n",
    "    return os.path.join(os.getcwd(), 'dw_prova_grupo.db')\n",
    "\n",
    "if __name__ == '__main__':\n",
    "    print(getPath())\n",
    "    conn = create_connection(getPath())"
   ]
  },
  {
   "cell_type": "markdown",
   "metadata": {},
   "source": [
    "## Cria tabela estrela"
   ]
  },
  {
   "cell_type": "code",
   "execution_count": 4,
   "metadata": {},
   "outputs": [],
   "source": [
    "def create_table(conn, create_table_sql):\n",
    "    \"\"\" create a table from the create_table_sql statement\n",
    "    :param conn: Connection object\n",
    "    :param create_table_sql: a CREATE TABLE statement\n",
    "    :return:\n",
    "    \"\"\"\n",
    "    try:\n",
    "        c = conn.cursor()\n",
    "        c.execute(create_table_sql)\n",
    "    except Error as e:\n",
    "        print(e)"
   ]
  },
  {
   "cell_type": "code",
   "execution_count": 5,
   "metadata": {},
   "outputs": [],
   "source": [
    "def main():\n",
    "    database = getPath()\n",
    "\n",
    "    #cria tabela fato\n",
    "    sql_create_vacinacao_covid_brasil = \"\"\" CREATE TABLE IF NOT EXISTS vacinacao_covid_brasil (\n",
    "                                                fk_paciente_id text,\n",
    "                                                fk_vacina_codigo integer,\n",
    "                                                fk_estabelecimento_id integer,\n",
    "                                                fk_tempo_id integer,\n",
    "                                                FOREIGN KEY (fk_paciente_id) REFERENCES paciente(paciente_id),\n",
    "                                                FOREIGN KEY (fk_vacina_codigo) REFERENCES vacina(vacina_codigo),\n",
    "                                                FOREIGN KEY (fk_estabelecimento_id) REFERENCES estabelecimento(estabelecimento_id),\n",
    "                                                FOREIGN KEY (fk_tempo_id) REFERENCES tempo(tempo_id),\n",
    "                                                PRIMARY KEY (fk_paciente_id, fk_vacina_codigo, fk_estabelecimento_id, fk_tempo_id),\n",
    "                                                sistema_origem text,\n",
    "                                                id_sistema_origem integer\n",
    "                                            );\"\"\"\n",
    "\n",
    "    #cria tabelas dimensao\n",
    "    sql_create_tempo_table = \"\"\" CREATE TABLE IF NOT EXISTS tempo (\n",
    "                                    tempo_id integer PRIMARY KEY AUTOINCREMENT,\n",
    "                                    vacina_dataaplicacao text,\n",
    "                                    paciente_datanascimento text,\n",
    "                                    data_importacao_rnds text\n",
    "                                );\"\"\"\n",
    "\n",
    "    sql_create_paciente_table = \"\"\" CREATE TABLE IF NOT EXISTS paciente (\n",
    "                                        paciente_id text PRIMARY KEY,\n",
    "                                        document_id text,\n",
    "                                        paciente_idade integer,\n",
    "                                        paciente_enumsexobiologico char,\n",
    "                                        paciente_racacor_valor text,\n",
    "                                        paciente_racacor_codigo integer,\n",
    "                                        paciente_endereco_coibgemunicipio integer,\n",
    "                                        paciente_endereco_copais integer,\n",
    "                                        paciente_endereco_nmmunicipio text,\n",
    "                                        paciente_endereco_nmpais text,\n",
    "                                        paciente_endereco_uf text,\n",
    "                                        paciente_endereco_cep text,\n",
    "                                        paciente_nacionalidade_enumnacionalidade char\n",
    "                                    );\"\"\"\n",
    "\n",
    "    sql_create_vacina_table = \"\"\" CREATE TABLE IF NOT EXISTS vacina (\n",
    "                                    vacina_codigo integer PRIMARY KEY AUTOINCREMENT,\n",
    "                                    vacina_nome text,\n",
    "                                    vacina_numdose integer,\n",
    "                                    vacina_descricao_dose text,\n",
    "                                    vacina_fabricante_referencia text,\n",
    "                                    vacina_fabricante_nome text,\n",
    "                                    vacina_lote text,\n",
    "                                    vacina_categoria_nome text,\n",
    "                                    vacina_categoria_codigo integer,\n",
    "                                    vacina_grupoatendimento_nome text,\n",
    "                                    vacina_grupoatendimento_codigo integer\n",
    "                                );\"\"\"\n",
    "\n",
    "    sql_create_estabelecimento_table = \"\"\" CREATE TABLE IF NOT EXISTS estabelecimento (\n",
    "                                            estabelecimento_id integer PRIMARY KEY AUTOINCREMENT,\n",
    "                                            estabelecimento_municipio_nome text,\n",
    "                                            estabelecimento_municipio_codigo integer,\n",
    "                                            estabelecimento_valor integer,\n",
    "                                            estabelecimento_nofantasia text,\n",
    "                                            estabelecimento_razaosocial text,\n",
    "                                            estabelecimento_uf text\n",
    "                                        );\"\"\"\n",
    "\n",
    "    # create a database connection\n",
    "    conn = create_connection(database)\n",
    "\n",
    "    # create tables\n",
    "    if conn is not None:\n",
    "        # create historico table\n",
    "        create_table(conn, sql_create_vacinacao_covid_brasil)\n",
    "        create_table(conn, sql_create_paciente_table)\n",
    "        create_table(conn, sql_create_vacina_table)\n",
    "        create_table(conn, sql_create_estabelecimento_table)\n",
    "        create_table(conn, sql_create_tempo_table)\n",
    "    else:\n",
    "        print(\"Error! cannot create the database connection.\")\n",
    "\n",
    "    #conn.commit()\n",
    "    #conn.close()"
   ]
  },
  {
   "cell_type": "code",
   "execution_count": null,
   "metadata": {},
   "outputs": [],
   "source": [
    "if __name__ == '__main__':\n",
    "    main()"
   ]
  },
  {
   "cell_type": "markdown",
   "metadata": {},
   "source": [
    "# Questão 4) Carga de dados"
   ]
  },
  {
   "cell_type": "markdown",
   "metadata": {},
   "source": [
    "## Insere dados na tabela"
   ]
  },
  {
   "cell_type": "markdown",
   "metadata": {},
   "source": [
    "O código utiliza a biblioteca ```pandas```, mas a primeira célula já executa o comando ```!pip install pandas```."
   ]
  },
  {
   "cell_type": "code",
   "execution_count": 7,
   "metadata": {},
   "outputs": [],
   "source": [
    "import pandas as pd\n",
    "\n",
    "#function that insert csv data into database\n",
    "def insert_data(df, table_name):\n",
    "    conn = create_connection(getPath())\n",
    "    df.to_sql(table_name, conn, if_exists='append', index=False)\n",
    "\n",
    "# Colunas com os dados da tabela paciente\n",
    "paciente_atributos = ['document_id','paciente_idade','paciente_enumsexobiologico','paciente_racacor_valor','paciente_racacor_codigo','paciente_endereco_coibgemunicipio','paciente_endereco_copais','paciente_endereco_nmmunicipio','paciente_endereco_nmpais','paciente_endereco_uf','paciente_endereco_cep','paciente_nacionalidade_enumnacionalidade']\n",
    "\n",
    "# Colunas com os dados da tabela vacina\n",
    "vacina_atributos = ['vacina_nome','vacina_numdose','vacina_descricao_dose','vacina_fabricante_referencia','vacina_fabricante_nome','vacina_lote','vacina_categoria_nome','vacina_categoria_codigo','vacina_grupoatendimento_nome','vacina_grupoatendimento_codigo'] \n",
    "\n",
    "# Colunas com os dados da tabela estabelecimento\n",
    "estabelecimento_atributos = ['estabelecimento_municipio_nome', 'estabelecimento_municipio_codigo', 'estabelecimento_valor', 'estabelecimento_razaosocial', 'estabelecimento_uf']\n",
    "\n",
    "# Colunas com os dados da tabela tempo\n",
    "tempo_atributos = ['vacina_dataaplicacao', 'paciente_datanascimento', 'data_importacao_rnds']\n",
    "\n",
    "# Colunas com os dados da tabela fato\n",
    "tabela_fato_atributos = ['sistema_origem','id_sistema_origem']\n",
    "\n",
    "# Le os dados do csv e insere no banco de dados\n",
    "# Insere os dados na tabela paciente\n",
    "dados_paciente = pd.read_csv(download_csv_path, usecols = paciente_atributos, sep = ';')\n",
    "insert_data(dados_paciente, 'paciente')\n",
    "\n",
    "# Insere os dados na tabela vacina\n",
    "dados_vacina = pd.read_csv(download_csv_path, usecols = vacina_atributos, sep = ';')\n",
    "insert_data(dados_vacina, 'vacina')\n",
    "\n",
    "# Insere os dados na tabela estabelecimento\n",
    "dados_estabelecimento = pd.read_csv(download_csv_path, usecols = estabelecimento_atributos, sep = ';')\n",
    "insert_data(dados_estabelecimento, 'estabelecimento')\n",
    "\n",
    "# Insere os dados na tabela tempo\n",
    "dados_tempo = pd.read_csv(download_csv_path, usecols = tempo_atributos, sep=';')\n",
    "insert_data(dados_tempo, 'tempo')\n",
    "\n",
    "# Insere os dados na tabela fato\n",
    "dados_fato = pd.read_csv(download_csv_path, usecols = tabela_fato_atributos, sep = ';')\n",
    "insert_data(dados_fato, 'vacinacao_covid_brasil')"
   ]
  }
 ],
 "metadata": {
  "interpreter": {
   "hash": "916dbcbb3f70747c44a77c7bcd40155683ae19c65e1c03b4aa3499c5328201f1"
  },
  "kernelspec": {
   "display_name": "Python 3.8.10 64-bit",
   "name": "python3"
  },
  "language_info": {
   "codemirror_mode": {
    "name": "ipython",
    "version": 3
   },
   "file_extension": ".py",
   "mimetype": "text/x-python",
   "name": "python",
   "nbconvert_exporter": "python",
   "pygments_lexer": "ipython3",
   "version": "3.9.9"
  },
  "orig_nbformat": 4
 },
 "nbformat": 4,
 "nbformat_minor": 2
}
