{
 "cells": [
  {
   "cell_type": "markdown",
   "metadata": {},
   "source": [
    "## Create database"
   ]
  },
  {
   "cell_type": "code",
   "execution_count": 11,
   "metadata": {},
   "outputs": [
    {
     "name": "stdout",
     "output_type": "stream",
     "text": [
      "2.6.0\n",
      "None\n"
     ]
    }
   ],
   "source": [
    "import sqlite3\n",
    "from sqlite3 import Error\n",
    "\n",
    "#https://www.sqlitetutorial.net/sqlite-python/\n",
    "\n",
    "def create_connection(db_file):\n",
    "    \"\"\" create a database connection to a SQLite database \"\"\"\n",
    "    conn = None\n",
    "    try:\n",
    "        conn = sqlite3.connect(db_file)\n",
    "        print(sqlite3.version)\n",
    "    except Error as e:\n",
    "        print(e)\n",
    "    finally:\n",
    "        if conn:\n",
    "            conn.close()\n",
    "\n",
    "if __name__ == '__main__':\n",
    "    #so cria o arquivo se a pasta sqlite e db existirem\n",
    "    #se ao inves de passar o endereco do arquivo, eu passar :memory: o python cria um arquivo na memoria ram\n",
    "    conn = create_connection(r\"C:\\sqlite\\db\\pythonsqlite.db\")\n",
    "    print(conn)"
   ]
  },
  {
   "cell_type": "markdown",
   "metadata": {},
   "source": [
    "## Cria tabela estrela"
   ]
  },
  {
   "cell_type": "code",
   "execution_count": 13,
   "metadata": {},
   "outputs": [],
   "source": [
    "def create_connection(db_file):\n",
    "    \"\"\" create a database connection to a SQLite database \"\"\"\n",
    "    conn = None\n",
    "    try:\n",
    "        conn = sqlite3.connect(db_file)\n",
    "        return conn\n",
    "    except Error as e:\n",
    "        print(e)"
   ]
  },
  {
   "cell_type": "code",
   "execution_count": null,
   "metadata": {},
   "outputs": [],
   "source": [
    "def create_table(conn, create_table_sql):\n",
    "    \"\"\" create a table from the create_table_sql statement\n",
    "    :param conn: Connection object\n",
    "    :param create_table_sql: a CREATE TABLE statement\n",
    "    :return:\n",
    "    \"\"\"\n",
    "    try:\n",
    "        c = conn.cursor()\n",
    "        c.execute(create_table_sql)\n",
    "    except Error as e:\n",
    "        print(e)"
   ]
  },
  {
   "cell_type": "code",
   "execution_count": null,
   "metadata": {},
   "outputs": [],
   "source": [
    "def main():\n",
    "    database = \"C:\\sqlite\\db\\pythonsqlite.db\"\n",
    "\n",
    "    sql_create_historico_covid_brasil_table = \"\"\" CREATE TABLE IF NOT EXISTS historicoCovidBrasil (\n",
    "                                        FOREIGN KEY (coduf_id) REFERENCES regiao(coduf)\n",
    "                                        FOREIGN KEY(data_id) REFERENCES tempo(data)\n",
    "                                        populacao integer,\n",
    "                                    ); \"\"\"\n",
    "\n",
    "    sql_create_tempo_table = \"\"\" CREATE TABLE IF NOT EXISTS tempo (\n",
    "                                        data text PRIMARY KEY,\n",
    "                                        semanaEpi integer,\n",
    "                                    );\"\"\"\n",
    "\n",
    "    sql_create_populacao_table = \"\"\" CREATE TABLE IF NOT EXISTS populacao (\n",
    "                                        populacaoTCU2019 integer,\n",
    "                                        casosAcumulado integer,\n",
    "                                        casosNovos integer,\n",
    "                                        obitosAcumulado integer,\n",
    "                                        obitosNovos integer\n",
    "                                    );\"\"\"\n",
    "\n",
    "    sql_regiao_table = \"\"\" CREATE TABLE IF NOT EXISTS regiao (\n",
    "                                        coduf integer PRIMARY KEY,\n",
    "                                        estado text,\n",
    "                                        regiao text,\n",
    "                                        codmun integer,\n",
    "                                        codReg integer,\n",
    "                                        nomeRegiaoSaude text,\n",
    "                                    );\"\"\"\n",
    "\n",
    "    # create a database connection\n",
    "    conn = create_connection(database)\n",
    "\n",
    "    # create tables\n",
    "    if conn is not None:\n",
    "        # create historico table\n",
    "        create_table(conn, sql_create_historico_covid_brasil_table)\n",
    "    else:\n",
    "        print(\"Error! cannot create the database connection.\")"
   ]
  },
  {
   "cell_type": "code",
   "execution_count": null,
   "metadata": {},
   "outputs": [],
   "source": [
    "if __name__ == '__main__':\n",
    "    main()"
   ]
  }
 ],
 "metadata": {
  "interpreter": {
   "hash": "e01015a1f226762d6e837830ce8242f2b2dee0f4257f0b3304cf0f6369245bc5"
  },
  "kernelspec": {
   "display_name": "Python 3.10.0 64-bit (windows store)",
   "language": "python",
   "name": "python3"
  },
  "language_info": {
   "codemirror_mode": {
    "name": "ipython",
    "version": 3
   },
   "file_extension": ".py",
   "mimetype": "text/x-python",
   "name": "python",
   "nbconvert_exporter": "python",
   "pygments_lexer": "ipython3",
   "version": "3.10.0"
  },
  "orig_nbformat": 4
 },
 "nbformat": 4,
 "nbformat_minor": 2
}
